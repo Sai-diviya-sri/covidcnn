{
  "nbformat": 4,
  "nbformat_minor": 0,
  "metadata": {
    "colab": {
      "name": "Covid_Xray_CNN.ipynb",
      "provenance": [],
      "collapsed_sections": []
    },
    "kernelspec": {
      "name": "python3",
      "display_name": "Python 3"
    },
    "language_info": {
      "name": "python"
    }
  },
  "cells": [
    {
      "cell_type": "code",
      "metadata": {
        "id": "GOtpX5GTr6nI"
      },
      "source": [
        "import numpy as np\n",
        "import cv2\n",
        "import os\n",
        "import matplotlib.pyplot as plt\n",
        "import random\n",
        "import pickle\n",
        "from tensorflow.keras.callbacks import TensorBoard"
      ],
      "execution_count": 1,
      "outputs": []
    },
    {
      "cell_type": "code",
      "metadata": {
        "id": "K9Ra7ruLDKtQ"
      },
      "source": [
        "DIRECTORY=r'/content/drive/MyDrive/Covid_Xray'\n",
        "CATEGORIES=['Covid19 Negative','Covid19 Positive']"
      ],
      "execution_count": 3,
      "outputs": []
    },
    {
      "cell_type": "code",
      "metadata": {
        "id": "2nAJ6onnDYIe"
      },
      "source": [
        "\n",
        "IMG_SIZE=100;\n",
        "data=[]\n",
        "\n",
        "for category in CATEGORIES:\n",
        "    folder=os.path.join(DIRECTORY,category)\n",
        "    label=CATEGORIES.index(category)\n",
        "    for img in os.listdir(folder):\n",
        "        img_path=os.path.join(folder,img)\n",
        "        img_arr=cv2.imread(img_path)\n",
        "        try:\n",
        "           img_arr = cv2.resize(img_arr, (IMG_SIZE,IMG_SIZE))\n",
        "           #print(img.shape)\n",
        "        except:\n",
        "           break\n",
        "        #img_arr=cv2.resize(img_arr,(IMG_SIZE,IMG_SIZE))\n",
        "        data.append([img_arr,label])"
      ],
      "execution_count": 4,
      "outputs": []
    },
    {
      "cell_type": "code",
      "metadata": {
        "id": "dS5NyJ6rsO2Z",
        "colab": {
          "base_uri": "https://localhost:8080/"
        },
        "outputId": "0f072f2c-2dde-43ce-ed3a-647958655405"
      },
      "source": [
        "len(data)"
      ],
      "execution_count": 5,
      "outputs": [
        {
          "output_type": "execute_result",
          "data": {
            "text/plain": [
              "681"
            ]
          },
          "metadata": {
            "tags": []
          },
          "execution_count": 5
        }
      ]
    },
    {
      "cell_type": "code",
      "metadata": {
        "id": "9ValkR8UFkRZ"
      },
      "source": [
        "random.shuffle(data)"
      ],
      "execution_count": 6,
      "outputs": []
    },
    {
      "cell_type": "code",
      "metadata": {
        "id": "vp3qJGq8FoZ7"
      },
      "source": [
        "X=[]\n",
        "Y=[]\n",
        "\n",
        "for features,labels in data:\n",
        "    X.append(features)\n",
        "    Y.append(labels)"
      ],
      "execution_count": 7,
      "outputs": []
    },
    {
      "cell_type": "code",
      "metadata": {
        "id": "gdbtlWHFFv-1"
      },
      "source": [
        "X=np.array(X)\n",
        "Y=np.array(Y)\n",
        "\n",
        "X=X/255"
      ],
      "execution_count": 8,
      "outputs": []
    },
    {
      "cell_type": "code",
      "metadata": {
        "colab": {
          "base_uri": "https://localhost:8080/"
        },
        "id": "jNr_Yz0HF0IO",
        "outputId": "73778746-ec94-4cbd-a4a0-58ec37fd6651"
      },
      "source": [
        "X.shape\n",
        "\n",
        "print(Y)"
      ],
      "execution_count": 9,
      "outputs": [
        {
          "output_type": "stream",
          "text": [
            "[1 0 1 0 1 1 1 1 1 0 0 0 1 0 1 1 1 0 0 0 1 1 1 1 0 1 1 1 0 1 0 1 0 0 1 0 0\n",
            " 1 1 1 1 1 1 1 1 1 1 1 1 1 0 1 1 0 1 1 1 1 0 1 0 0 0 0 0 1 1 0 1 1 1 1 1 1\n",
            " 0 1 1 1 1 1 0 1 1 0 1 1 1 0 1 1 1 0 1 1 1 0 1 1 1 1 0 1 0 1 1 1 0 1 1 0 1\n",
            " 1 1 0 1 0 1 1 1 1 1 0 1 0 1 1 0 1 1 1 1 1 1 1 1 0 1 1 1 1 1 1 1 1 1 0 1 1\n",
            " 0 1 1 0 1 1 1 1 1 1 1 1 1 0 1 1 1 1 1 1 0 1 1 1 1 1 1 1 1 1 0 1 0 1 0 0 1\n",
            " 0 1 0 1 1 1 1 1 1 1 1 1 1 1 1 1 1 1 1 1 1 1 1 0 1 0 1 1 1 1 1 1 0 1 1 0 0\n",
            " 1 1 1 1 1 1 1 1 1 1 1 1 0 1 0 1 1 1 1 0 1 0 1 1 1 0 1 0 1 1 1 0 1 1 1 1 0\n",
            " 1 1 0 0 1 1 1 1 1 1 1 1 1 1 1 0 1 1 1 1 1 1 1 1 1 1 1 1 1 1 1 1 1 0 1 1 1\n",
            " 1 1 0 1 1 1 1 1 1 1 1 1 1 1 1 1 1 1 1 1 1 0 1 1 1 1 1 1 1 1 1 1 1 1 0 1 0\n",
            " 0 1 1 1 1 1 1 0 1 1 1 0 0 0 1 1 1 1 1 1 1 1 1 0 1 1 1 1 1 1 0 0 0 1 1 1 1\n",
            " 1 1 1 1 1 1 1 0 1 1 1 1 1 0 0 1 0 1 1 1 1 0 1 1 0 1 0 1 1 1 1 0 1 1 1 1 1\n",
            " 1 1 1 0 0 1 0 0 0 1 0 1 1 1 1 1 1 1 1 1 1 1 1 0 1 1 1 0 1 1 1 1 1 1 1 0 1\n",
            " 1 1 1 1 1 1 1 0 1 1 1 0 1 1 1 0 0 1 1 0 1 1 0 1 1 0 0 1 1 1 1 1 1 1 0 1 1\n",
            " 1 1 0 1 1 1 1 1 1 1 1 0 0 1 1 1 1 0 1 1 1 1 1 1 1 1 1 1 1 1 0 1 0 1 0 1 1\n",
            " 0 0 1 1 1 1 1 1 1 0 1 1 1 1 1 1 0 1 0 1 1 1 1 0 1 0 1 1 1 1 1 1 1 1 1 1 1\n",
            " 1 1 0 1 1 1 1 1 1 1 1 1 1 1 1 1 1 1 1 0 1 1 1 1 1 0 1 1 0 1 1 1 0 0 1 1 1\n",
            " 1 1 1 1 0 1 0 1 1 1 1 1 1 1 1 1 1 1 1 1 1 1 1 1 1 1 1 1 1 1 0 1 1 1 1 1 1\n",
            " 1 1 1 1 1 1 1 0 0 1 0 1 1 1 1 1 1 1 0 1 1 1 1 0 0 1 0 1 1 1 1 1 1 1 1 1 1\n",
            " 0 0 1 0 1 1 1 1 1 1 1 0 1 1 0]\n"
          ],
          "name": "stdout"
        }
      ]
    },
    {
      "cell_type": "code",
      "metadata": {
        "id": "uOrRYvT5F4TT"
      },
      "source": [
        "pickle.dump(data,open(\"dataset\",'wb'))"
      ],
      "execution_count": 10,
      "outputs": []
    },
    {
      "cell_type": "code",
      "metadata": {
        "id": "BvJZlizoF7gl"
      },
      "source": [
        "from keras.models import Sequential\n",
        "from keras.layers import Conv2D,MaxPooling2D,Flatten,Dense"
      ],
      "execution_count": 11,
      "outputs": []
    },
    {
      "cell_type": "code",
      "metadata": {
        "id": "KU9tzt5OF897"
      },
      "source": [
        "model=Sequential()\n",
        "\n",
        "model.add( Conv2D(64,(3,3), activation='relu' ) )\n",
        "model.add( MaxPooling2D( (2,2) ) )\n",
        "\n",
        "model.add( Conv2D(64,(3,3), activation='relu' ) )\n",
        "model.add( MaxPooling2D( (2,2) ) )\n",
        "\n",
        "model.add( Conv2D(64,(3,3), activation='relu' ) )\n",
        "model.add( MaxPooling2D( (2,2) ) )\n",
        "\n",
        "model.add( Flatten() )\n",
        "\n",
        "model.add( Dense(128,input_shape=X.shape[1:],activation='relu') )\n",
        "model.add(Dense(3,activation='softmax'))"
      ],
      "execution_count": 12,
      "outputs": []
    },
    {
      "cell_type": "code",
      "metadata": {
        "id": "-EuyVyRGGC6q"
      },
      "source": [
        "model.compile(optimizer='adam',loss='sparse_categorical_crossentropy',metrics=['accuracy'])"
      ],
      "execution_count": 13,
      "outputs": []
    },
    {
      "cell_type": "code",
      "metadata": {
        "colab": {
          "base_uri": "https://localhost:8080/"
        },
        "id": "yv128XoPGFu4",
        "outputId": "9d870da6-8f09-4a01-b023-beed27a57c9b"
      },
      "source": [
        "model.fit(X,Y,epochs=15,validation_split=0.1)"
      ],
      "execution_count": 14,
      "outputs": [
        {
          "output_type": "stream",
          "text": [
            "Epoch 1/15\n",
            "20/20 [==============================] - 16s 752ms/step - loss: 0.6911 - accuracy: 0.6477 - val_loss: 0.5198 - val_accuracy: 0.8116\n",
            "Epoch 2/15\n",
            "20/20 [==============================] - 15s 731ms/step - loss: 0.4926 - accuracy: 0.7830 - val_loss: 0.3667 - val_accuracy: 0.8261\n",
            "Epoch 3/15\n",
            "20/20 [==============================] - 15s 750ms/step - loss: 0.4139 - accuracy: 0.8404 - val_loss: 0.3293 - val_accuracy: 0.8696\n",
            "Epoch 4/15\n",
            "20/20 [==============================] - 14s 717ms/step - loss: 0.3521 - accuracy: 0.8768 - val_loss: 0.3043 - val_accuracy: 0.9275\n",
            "Epoch 5/15\n",
            "20/20 [==============================] - 14s 721ms/step - loss: 0.3336 - accuracy: 0.9207 - val_loss: 0.3785 - val_accuracy: 0.8551\n",
            "Epoch 6/15\n",
            "20/20 [==============================] - 15s 751ms/step - loss: 0.3388 - accuracy: 0.8723 - val_loss: 0.4032 - val_accuracy: 0.8406\n",
            "Epoch 7/15\n",
            "20/20 [==============================] - 15s 731ms/step - loss: 0.3332 - accuracy: 0.8766 - val_loss: 0.3344 - val_accuracy: 0.8986\n",
            "Epoch 8/15\n",
            "20/20 [==============================] - 14s 723ms/step - loss: 0.2974 - accuracy: 0.9024 - val_loss: 0.4031 - val_accuracy: 0.8406\n",
            "Epoch 9/15\n",
            "20/20 [==============================] - 14s 709ms/step - loss: 0.3284 - accuracy: 0.8962 - val_loss: 0.3229 - val_accuracy: 0.9275\n",
            "Epoch 10/15\n",
            "20/20 [==============================] - 15s 732ms/step - loss: 0.2704 - accuracy: 0.9144 - val_loss: 0.3315 - val_accuracy: 0.9130\n",
            "Epoch 11/15\n",
            "20/20 [==============================] - 14s 715ms/step - loss: 0.2762 - accuracy: 0.9184 - val_loss: 0.3579 - val_accuracy: 0.8696\n",
            "Epoch 12/15\n",
            "20/20 [==============================] - 14s 711ms/step - loss: 0.2727 - accuracy: 0.9060 - val_loss: 0.3317 - val_accuracy: 0.8986\n",
            "Epoch 13/15\n",
            "20/20 [==============================] - 14s 721ms/step - loss: 0.3108 - accuracy: 0.8966 - val_loss: 0.3754 - val_accuracy: 0.8696\n",
            "Epoch 14/15\n",
            "20/20 [==============================] - 14s 696ms/step - loss: 0.2743 - accuracy: 0.9088 - val_loss: 0.3113 - val_accuracy: 0.9130\n",
            "Epoch 15/15\n",
            "20/20 [==============================] - 14s 713ms/step - loss: 0.2677 - accuracy: 0.9142 - val_loss: 0.3622 - val_accuracy: 0.8986\n"
          ],
          "name": "stdout"
        },
        {
          "output_type": "execute_result",
          "data": {
            "text/plain": [
              "<tensorflow.python.keras.callbacks.History at 0x7fe01ec97210>"
            ]
          },
          "metadata": {
            "tags": []
          },
          "execution_count": 14
        }
      ]
    },
    {
      "cell_type": "code",
      "metadata": {
        "colab": {
          "base_uri": "https://localhost:8080/"
        },
        "id": "lvcUDAUnxv64",
        "outputId": "5baa67a5-6b77-4702-e3a0-9535062c70da"
      },
      "source": [
        "history = model.fit(X,Y,epochs=15,validation_split=0.1)"
      ],
      "execution_count": 15,
      "outputs": [
        {
          "output_type": "stream",
          "text": [
            "Epoch 1/15\n",
            "20/20 [==============================] - 15s 744ms/step - loss: 0.2753 - accuracy: 0.9003 - val_loss: 0.3878 - val_accuracy: 0.8986\n",
            "Epoch 2/15\n",
            "20/20 [==============================] - 15s 744ms/step - loss: 0.2797 - accuracy: 0.9069 - val_loss: 0.3083 - val_accuracy: 0.9130\n",
            "Epoch 3/15\n",
            "20/20 [==============================] - 15s 742ms/step - loss: 0.2629 - accuracy: 0.9052 - val_loss: 0.3478 - val_accuracy: 0.9130\n",
            "Epoch 4/15\n",
            "20/20 [==============================] - 15s 746ms/step - loss: 0.2626 - accuracy: 0.9069 - val_loss: 0.3440 - val_accuracy: 0.9130\n",
            "Epoch 5/15\n",
            "20/20 [==============================] - 15s 745ms/step - loss: 0.2580 - accuracy: 0.9069 - val_loss: 0.3561 - val_accuracy: 0.8986\n",
            "Epoch 6/15\n",
            "20/20 [==============================] - 15s 742ms/step - loss: 0.2451 - accuracy: 0.9036 - val_loss: 0.3699 - val_accuracy: 0.9130\n",
            "Epoch 7/15\n",
            "20/20 [==============================] - 15s 742ms/step - loss: 0.2787 - accuracy: 0.9052 - val_loss: 0.4077 - val_accuracy: 0.8986\n",
            "Epoch 8/15\n",
            "20/20 [==============================] - 15s 734ms/step - loss: 0.2338 - accuracy: 0.9118 - val_loss: 0.3815 - val_accuracy: 0.8986\n",
            "Epoch 9/15\n",
            "20/20 [==============================] - 15s 744ms/step - loss: 0.2479 - accuracy: 0.9069 - val_loss: 0.4511 - val_accuracy: 0.8986\n",
            "Epoch 10/15\n",
            "20/20 [==============================] - 15s 740ms/step - loss: 0.2536 - accuracy: 0.9101 - val_loss: 0.3807 - val_accuracy: 0.8986\n",
            "Epoch 11/15\n",
            "20/20 [==============================] - 15s 745ms/step - loss: 0.2298 - accuracy: 0.8987 - val_loss: 0.3866 - val_accuracy: 0.8986\n",
            "Epoch 12/15\n",
            "20/20 [==============================] - 15s 746ms/step - loss: 0.2144 - accuracy: 0.9069 - val_loss: 0.4462 - val_accuracy: 0.8986\n",
            "Epoch 13/15\n",
            "20/20 [==============================] - 15s 750ms/step - loss: 0.2196 - accuracy: 0.9134 - val_loss: 0.3895 - val_accuracy: 0.9130\n",
            "Epoch 14/15\n",
            "20/20 [==============================] - 15s 749ms/step - loss: 0.2140 - accuracy: 0.9232 - val_loss: 0.3955 - val_accuracy: 0.8986\n",
            "Epoch 15/15\n",
            "20/20 [==============================] - 15s 744ms/step - loss: 0.2215 - accuracy: 0.9036 - val_loss: 0.4601 - val_accuracy: 0.8986\n"
          ],
          "name": "stdout"
        }
      ]
    },
    {
      "cell_type": "code",
      "metadata": {
        "colab": {
          "base_uri": "https://localhost:8080/"
        },
        "id": "2vswjfp0x1Z0",
        "outputId": "78b53f7f-503d-41d8-f8e9-cfb338cb6c93"
      },
      "source": [
        "print(history.history.keys())"
      ],
      "execution_count": 16,
      "outputs": [
        {
          "output_type": "stream",
          "text": [
            "dict_keys(['loss', 'accuracy', 'val_loss', 'val_accuracy'])\n"
          ],
          "name": "stdout"
        }
      ]
    },
    {
      "cell_type": "code",
      "metadata": {
        "colab": {
          "base_uri": "https://localhost:8080/",
          "height": 295
        },
        "id": "8UvFeA7-x4q3",
        "outputId": "a09ffc0d-a4c6-46e5-8602-5eefd012c8e2"
      },
      "source": [
        "# summarize history for accuracy\n",
        "plt.plot(history.history['accuracy'])\n",
        "plt.plot(history.history['val_accuracy'])\n",
        "plt.title('model accuracy')\n",
        "plt.ylabel('accuracy')\n",
        "plt.xlabel('epoch')\n",
        "plt.legend(['train', 'test'], loc='upper left')\n",
        "plt.show()"
      ],
      "execution_count": 17,
      "outputs": [
        {
          "output_type": "display_data",
          "data": {
            "image/png": "[encoded data removed]",
            "text/plain": [
              "<Figure size 432x288 with 1 Axes>"
            ]
          },
          "metadata": {
            "tags": [],
            "needs_background": "light"
          }
        }
      ]
    },
    {
      "cell_type": "code",
      "metadata": {
        "colab": {
          "base_uri": "https://localhost:8080/",
          "height": 295
        },
        "id": "OSvhja3Px8ZG",
        "outputId": "28b92569-020f-4d83-e198-78121ae921a8"
      },
      "source": [
        "# summarize history for loss\n",
        "plt.plot(history.history['loss'])\n",
        "plt.plot(history.history['val_loss'])\n",
        "plt.title('model loss')\n",
        "plt.ylabel('loss')\n",
        "plt.xlabel('epoch')\n",
        "plt.legend(['train', 'test'], loc='upper left')\n",
        "plt.show()"
      ],
      "execution_count": 18,
      "outputs": [
        {
          "output_type": "display_data",
          "data": {
            "image/png": "[encoded data removed]",
            "text/plain": [
              "<Figure size 432x288 with 1 Axes>"
            ]
          },
          "metadata": {
            "tags": [],
            "needs_background": "light"
          }
        }
      ]
    },
    {
      "cell_type": "code",
      "metadata": {
        "colab": {
          "base_uri": "https://localhost:8080/"
        },
        "id": "vlLiVpasK6VK",
        "outputId": "238cd3e1-413a-4acc-c2af-1eaf57c7aec2"
      },
      "source": [
        "model.summary()"
      ],
      "execution_count": 19,
      "outputs": [
        {
          "output_type": "stream",
          "text": [
            "Model: \"sequential\"\n",
            "_________________________________________________________________\n",
            "Layer (type)                 Output Shape              Param #   \n",
            "=================================================================\n",
            "conv2d (Conv2D)              (None, 98, 98, 64)        1792      \n",
            "_________________________________________________________________\n",
            "max_pooling2d (MaxPooling2D) (None, 49, 49, 64)        0         \n",
            "_________________________________________________________________\n",
            "conv2d_1 (Conv2D)            (None, 47, 47, 64)        36928     \n",
            "_________________________________________________________________\n",
            "max_pooling2d_1 (MaxPooling2 (None, 23, 23, 64)        0         \n",
            "_________________________________________________________________\n",
            "conv2d_2 (Conv2D)            (None, 21, 21, 64)        36928     \n",
            "_________________________________________________________________\n",
            "max_pooling2d_2 (MaxPooling2 (None, 10, 10, 64)        0         \n",
            "_________________________________________________________________\n",
            "flatten (Flatten)            (None, 6400)              0         \n",
            "_________________________________________________________________\n",
            "dense (Dense)                (None, 128)               819328    \n",
            "_________________________________________________________________\n",
            "dense_1 (Dense)              (None, 3)                 387       \n",
            "=================================================================\n",
            "Total params: 895,363\n",
            "Trainable params: 895,363\n",
            "Non-trainable params: 0\n",
            "_________________________________________________________________\n"
          ],
          "name": "stdout"
        }
      ]
    },
    {
      "cell_type": "code",
      "metadata": {
        "colab": {
          "base_uri": "https://localhost:8080/"
        },
        "id": "mt7bYS_UHAGN",
        "outputId": "6a5dd7f5-8b22-4b72-9a75-0e8432464a3c"
      },
      "source": [
        "model.save(\"my_model\")\n",
        "#model.save(\"/content/drive/MyDrive/Models/my_model\")"
      ],
      "execution_count": null,
      "outputs": [
        {
          "output_type": "stream",
          "text": [
            "INFO:tensorflow:Assets written to: my_model/assets\n"
          ],
          "name": "stdout"
        }
      ]
    },
    {
      "cell_type": "code",
      "metadata": {
        "colab": {
          "base_uri": "https://localhost:8080/"
        },
        "id": "8T5ibWJXHUAH",
        "outputId": "81c28151-a75b-42a2-9b8c-a1a19d8d93fd"
      },
      "source": [
        "predict_data=data[100]\n",
        "x=predict_data[0]/255\n",
        "x"
      ],
      "execution_count": null,
      "outputs": [
        {
          "output_type": "execute_result",
          "data": {
            "text/plain": [
              "array([[[0.38823529, 0.38823529, 0.38823529],\n",
              "        [0.44705882, 0.44705882, 0.44705882],\n",
              "        [0.35294118, 0.35294118, 0.35294118],\n",
              "        ...,\n",
              "        [0.40784314, 0.40784314, 0.40784314],\n",
              "        [0.45098039, 0.45098039, 0.45098039],\n",
              "        [0.3372549 , 0.3372549 , 0.3372549 ]],\n",
              "\n",
              "       [[0.38431373, 0.38431373, 0.38431373],\n",
              "        [0.43137255, 0.43137255, 0.43137255],\n",
              "        [0.40392157, 0.40392157, 0.40392157],\n",
              "        ...,\n",
              "        [0.44705882, 0.44705882, 0.44705882],\n",
              "        [0.36862745, 0.36862745, 0.36862745],\n",
              "        [0.36862745, 0.36862745, 0.36862745]],\n",
              "\n",
              "       [[0.38823529, 0.38823529, 0.38823529],\n",
              "        [0.4       , 0.4       , 0.4       ],\n",
              "        [0.47843137, 0.47843137, 0.47843137],\n",
              "        ...,\n",
              "        [0.3254902 , 0.3254902 , 0.3254902 ],\n",
              "        [0.30588235, 0.30588235, 0.30588235],\n",
              "        [0.25882353, 0.25882353, 0.25882353]],\n",
              "\n",
              "       ...,\n",
              "\n",
              "       [[0.48235294, 0.48235294, 0.48235294],\n",
              "        [0.51372549, 0.51372549, 0.51372549],\n",
              "        [0.54117647, 0.54117647, 0.54117647],\n",
              "        ...,\n",
              "        [0.52156863, 0.52156863, 0.52156863],\n",
              "        [0.50196078, 0.50196078, 0.50196078],\n",
              "        [0.47843137, 0.47843137, 0.47843137]],\n",
              "\n",
              "       [[0.49411765, 0.49411765, 0.49411765],\n",
              "        [0.52156863, 0.52156863, 0.52156863],\n",
              "        [0.54901961, 0.54901961, 0.54901961],\n",
              "        ...,\n",
              "        [0.5254902 , 0.5254902 , 0.5254902 ],\n",
              "        [0.50196078, 0.50196078, 0.50196078],\n",
              "        [0.47843137, 0.47843137, 0.47843137]],\n",
              "\n",
              "       [[0.49411765, 0.49411765, 0.49411765],\n",
              "        [0.52156863, 0.52156863, 0.52156863],\n",
              "        [0.54901961, 0.54901961, 0.54901961],\n",
              "        ...,\n",
              "        [0.5254902 , 0.5254902 , 0.5254902 ],\n",
              "        [0.50196078, 0.50196078, 0.50196078],\n",
              "        [0.47843137, 0.47843137, 0.47843137]]])"
            ]
          },
          "metadata": {
            "tags": []
          },
          "execution_count": 30
        }
      ]
    },
    {
      "cell_type": "code",
      "metadata": {
        "colab": {
          "base_uri": "https://localhost:8080/",
          "height": 285
        },
        "id": "F7yX-X5BHZS0",
        "outputId": "9cc391eb-8d79-4fb0-b9c9-2338cefadcf4"
      },
      "source": [
        "plt.imshow(x)"
      ],
      "execution_count": null,
      "outputs": [
        {
          "output_type": "execute_result",
          "data": {
            "text/plain": [
              "<matplotlib.image.AxesImage at 0x7f54a2f82710>"
            ]
          },
          "metadata": {
            "tags": []
          },
          "execution_count": 31
        },
        {
          "output_type": "display_data",
          "data": {
            "image/png": "[encoded data removed]",
            "text/plain": [
              "<Figure size 432x288 with 1 Axes>"
            ]
          },
          "metadata": {
            "tags": [],
            "needs_background": "light"
          }
        }
      ]
    },
    {
      "cell_type": "code",
      "metadata": {
        "colab": {
          "base_uri": "https://localhost:8080/"
        },
        "id": "dTS1GXZPHfYK",
        "outputId": "d5caa070-ac2c-42c7-e6d7-4ced38e9a79a"
      },
      "source": [
        "predictions=model.predict(np.array([x]))\n",
        "predictions"
      ],
      "execution_count": null,
      "outputs": [
        {
          "output_type": "execute_result",
          "data": {
            "text/plain": [
              "array([[9.044885e-02, 9.094715e-01, 7.955309e-05]], dtype=float32)"
            ]
          },
          "metadata": {
            "tags": []
          },
          "execution_count": 32
        }
      ]
    },
    {
      "cell_type": "code",
      "metadata": {
        "colab": {
          "base_uri": "https://localhost:8080/"
        },
        "id": "4Ncn0J6NHg24",
        "outputId": "746e5c0c-1a2b-49f3-f27e-5904f0adaa3c"
      },
      "source": [
        "if(predictions[0][0]>0.8):\n",
        "    print(\"COVID-19-TEST: NEGATIVE\")\n",
        "\n",
        "if(predictions[0][1]>0.8):\n",
        "    print(\"COVID-19-TEST: POSITIVE\")\n"
      ],
      "execution_count": null,
      "outputs": [
        {
          "output_type": "stream",
          "text": [
            "COVID-19-TEST: POSITIVE\n"
          ],
          "name": "stdout"
        }
      ]
    },
    {
      "cell_type": "code",
      "metadata": {
        "colab": {
          "base_uri": "https://localhost:8080/"
        },
        "id": "_q1OwrNkOtvZ",
        "outputId": "d92b94bc-e633-4926-e88f-fc18bcad8fe9"
      },
      "source": [
        "import tensorflow as tf\n",
        "from tensorflow import keras\n",
        "#test_img = ''\n",
        "#test_img_path = tf.keras.utils.get_file('Test Image', origin=test_img)\n",
        "testimage = r'/content/drive/MyDrive/n2.jpeg'\n",
        "\n",
        "img = keras.preprocessing.image.load_img(\n",
        "    testimage, target_size=(IMG_SIZE, IMG_SIZE)\n",
        ")\n",
        "\n",
        "\n",
        "img_array = keras.preprocessing.image.img_to_array(img)\n",
        "img_array = tf.expand_dims(img_array, 0) # Create a batch\n",
        "\n",
        "predictions = model.predict(img_array)\n",
        "#score = tf.nn.softmax(predictions[0])\n",
        "predictions\n",
        "print(predictions)\n",
        "if(predictions[0][0]>0.8):\n",
        "    print(\"COVID-19-TEST: NEGATIVE\")\n",
        "\n",
        "if(predictions[0][1]>0.8):\n",
        "    print(\"COVID-19-TEST: POSITIVE\")\n"
      ],
      "execution_count": null,
      "outputs": [
        {
          "output_type": "stream",
          "text": [
            "[[1. 0. 0.]]\n",
            "COVID-19-TEST: NEGATIVE\n"
          ],
          "name": "stdout"
        }
      ]
    }
  ]
}